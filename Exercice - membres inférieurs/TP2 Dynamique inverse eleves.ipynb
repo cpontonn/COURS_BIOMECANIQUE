{
 "cells": [
  {
   "cell_type": "markdown",
   "metadata": {},
   "source": [
    "# TP cinématique et dynamique en analyse du mouvement 2\n",
    "**Charles Pontonnier - Nicolas Bideau**\n",
    "\n",
    "\n",
    "## Dynamique inverse\n",
    "\n",
    "\n",
    "\n",
    "Ce petit code python a pour objectif de réaliser l'analyse par dynamique inverse. Un fichier de fonctions accompagne ce TD pour alléger le code dans le notebook (ID.py).\n",
    "\n",
    "conda install -c conda-forge ezc3d \n",
    "\n",
    "## Markerset utilisé\n",
    "![alt text](markerset.png \"jeu de marqueurs utilisé\")"
   ]
  },
  {
   "cell_type": "markdown",
   "metadata": {},
   "source": [
    "## Setup du Notebook"
   ]
  },
  {
   "cell_type": "code",
   "execution_count": 2,
   "metadata": {},
   "outputs": [],
   "source": [
    "import ezc3d \n",
    "import numpy as np\n",
    "import matplotlib.pyplot as plt\n",
    "from scipy import signal\n",
    "import ID #import des fonctions spécifiques au notebook"
   ]
  },
  {
   "cell_type": "markdown",
   "metadata": {},
   "source": [
    "## Ouverture du fichier, récupération des données\n",
    "\n",
    "\n",
    "\n",
    "<font color='green'>**Question 1: Le fichier est ouvert différemment que lors du TP précédent. Qu'est ce qui change ?**</font>"
   ]
  },
  {
   "cell_type": "code",
   "execution_count": 3,
   "metadata": {
    "scrolled": true
   },
   "outputs": [],
   "source": [
    "#Ouverture du fichier\n",
    "\n",
    "c = ezc3d.c3d('DATA/marche.c3d', extract_forceplat_data=True);\n",
    "\n",
    "point_data = c['data']['points'] #récupération trajectoires marqueurs\n",
    "point_labels=c['parameters']['POINT']['LABELS']# récupération labels marqueurs\n",
    "point_rate=c['parameters']['POINT']['RATE'] # récupération fréquence mocap\n",
    "analog_data = c['data']['analogs'] # récupération données analogiques\n",
    "analog_labels=c['parameters']['ANALOG']['LABELS'] # récupération labels analogiques\n",
    "analog_rate=c['parameters']['ANALOG']['RATE'] # récupération fréquence analogique\n",
    "\n",
    "nf_mocap=len(point_data[0][0][:]) #nombre de frames de capture\n",
    "n_markers=len(point_data[0][:]) #nombre de marqueurs\n",
    "n_dims=len(point_data[:]) #dimensions (3)\n",
    "nf_analog=len(analog_data[0][:][:]) #nombre de frames données analogiques\n",
    "t_point=np.linspace(0., nf_mocap/point_rate['value'][0], num=nf_mocap) #temps mocap\n",
    "t_analog=np.linspace(0., nf_analog/analog_rate['value'][0], num=nf_analog) #temps analogique\n",
    "f_mocap=point_rate['value'][0] #fréquence capture\n",
    "\n",
    "fc=6 #Hz fréquence de coupure du filtre passe bas\n",
    "\n",
    "g=9.81 #gravité\n"
   ]
  },
  {
   "cell_type": "markdown",
   "metadata": {},
   "source": [
    "## Introduction des paramètres du modèle"
   ]
  },
  {
   "cell_type": "code",
   "execution_count": 4,
   "metadata": {},
   "outputs": [],
   "source": [
    "\n",
    "#################################################\n",
    "########### PARAMETRES GEOMETRIQUES #############\n",
    "#################################################\n",
    "\n",
    "pOt=np.transpose([[-74,-46,74]])/1000#création position de la hanche dans le repère local du pelvis\n",
    "#position des centres de masse dans le repère local\n",
    "tGt=np.transpose([[0,-190,0]])/1000 #centre de masse de la cuisse dans le repère cuisse\n",
    "sGs=np.transpose([[0,-186,0]])/1000 #centre de masse de la jambe dans le repère jambe\n",
    "fGf=np.transpose([[-30,-80,0]])/1000 #centre de masse du pied dans le repère pied\n",
    "\n",
    "##############################################\n",
    "########### PARAMETRES INERTIELS #############\n",
    "##############################################\n",
    "\n",
    "#cuisse\n",
    "mt=8.25 #kg\n",
    "It=0.1434 #kg.m²\n",
    "#jambe\n",
    "ms=3.21 #kg\n",
    "Is=0.0463 #kg.m²\n",
    "#pied\n",
    "mf=0.8 #kg\n",
    "If=0.0056 #kg.m²\n"
   ]
  },
  {
   "cell_type": "markdown",
   "metadata": {},
   "source": [
    "## Construction des centres articulaires "
   ]
  },
  {
   "cell_type": "markdown",
   "metadata": {},
   "source": [
    "On cherche à présent à obtenir les centres articulaires des différentes articulations du modèle. \n",
    "\n",
    "![alt text](centres_articulaires.png \"centres articulaires du modèle\")\n",
    "\n",
    "<font color='green'>**Question 2: Une étape supplémentaire a été ajoutée dans ce calcul. A quoi correspond cette étape et à quoi sert elle ? Modifier la fréquence de coupure pour tester l'effet du filtrage sur les données.**</font>"
   ]
  },
  {
   "cell_type": "code",
   "execution_count": 5,
   "metadata": {},
   "outputs": [],
   "source": [
    "# le centre segmentaire (et articulaire) du pelvis est approximé par la moyenne des quatres marqueurs pelvis\n",
    "Op=np.zeros((nf_mocap,3))\n",
    "Op[:,0]=ID.LP_filter(0.25*(point_data[0][10][:]+point_data[0][11][:]+point_data[0][21][:]+point_data[0][22][:])/1000,fc,f_mocap)\n",
    "Op[:,1]=ID.LP_filter(0.25*(point_data[1][10][:]+point_data[1][11][:]+point_data[1][21][:]+point_data[1][22][:])/1000,fc,f_mocap)\n",
    "Op[:,2]=ID.LP_filter(0.25*(point_data[2][10][:]+point_data[2][11][:]+point_data[2][21][:]+point_data[2][22][:])/1000,fc,f_mocap)\n",
    "\n",
    "# le centre articulaire de la hanche va faire l'objet d'un calcul spécifique ensuite\n",
    "\n",
    "# le centre articulaire du genou est approximé par la moyenne des 2 marqueurs du genou\n",
    "Os=np.zeros((nf_mocap,3))\n",
    "Os[:,0]=ID.LP_filter(0.5*(point_data[0][18][:]+point_data[0][19][:])/1000,fc,f_mocap)\n",
    "Os[:,1]=ID.LP_filter(0.5*(point_data[1][18][:]+point_data[1][19][:])/1000,fc,f_mocap)\n",
    "Os[:,2]=ID.LP_filter(0.5*(point_data[2][18][:]+point_data[2][19][:])/1000,fc,f_mocap)\n",
    "\n",
    "# le centre articulaire de la cheville est approximé par la moyenne des 2 marqueurs de la cheville\n",
    "\n",
    "Of=np.zeros((nf_mocap,3))\n",
    "Of[:,0]=ID.LP_filter(0.5*(point_data[0][16][:]+point_data[0][17][:])/1000,fc,f_mocap)\n",
    "Of[:,1]=ID.LP_filter(0.5*(point_data[1][16][:]+point_data[1][17][:])/1000,fc,f_mocap)\n",
    "Of[:,2]=ID.LP_filter(0.5*(point_data[2][16][:]+point_data[2][17][:])/1000,fc,f_mocap)\n",
    "\n",
    "# le point situé sur le gros orteil est approximé par le marqueur gros orteil\n",
    "Otoe=np.zeros((nf_mocap,3))\n",
    "Of[:,0]=ID.LP_filter(point_data[0][12][:]/1000,fc,f_mocap)\n",
    "Of[:,1]=ID.LP_filter(point_data[1][12][:]/1000,fc,f_mocap)\n",
    "Of[:,2]=ID.LP_filter(point_data[2][12][:]/1000,fc,f_mocap)\n"
   ]
  },
  {
   "cell_type": "markdown",
   "metadata": {},
   "source": [
    "## Cinématique inverse\n",
    "\n",
    "Cette partie du code réalise les mêmes étapes que celles détaillées dans le TP1 \"cinématique\""
   ]
  },
  {
   "cell_type": "code",
   "execution_count": 6,
   "metadata": {},
   "outputs": [
    {
     "name": "stderr",
     "output_type": "stream",
     "text": [
      "C:\\Users\\cpontonn\\Documents\\TRAVAIL - COURS\\DIGISPORT\\Partage Nico\\Modélisation biomécanique  exercices numériques\\DIGISPORT_BIOMECA\\Exercice - membres inférieurs\\ID.py:17: RuntimeWarning: invalid value encountered in true_divide\n",
      "  zp=(markers[21,:]-markers[10,:])/np.linalg.norm(markers[21,:]-markers[10,:]) # RFWT-LFWT\n",
      "C:\\Users\\cpontonn\\Documents\\TRAVAIL - COURS\\DIGISPORT\\Partage Nico\\Modélisation biomécanique  exercices numériques\\DIGISPORT_BIOMECA\\Exercice - membres inférieurs\\ID.py:18: RuntimeWarning: invalid value encountered in true_divide\n",
      "  xp=(0.5*(markers[21,:]+markers[10,:])-0.5*(markers[22,:]+markers[11,:]))/np.linalg.norm(0.5*(markers[21,:]+markers[10,:])-0.5*(markers[22,:]+markers[11,:]))\n"
     ]
    }
   ],
   "source": [
    "markers=np.zeros((n_markers,n_dims-1)) #donnée temporaire contenant l'ensemble des positions de marqueurs à une frame donnée\n",
    "\n",
    "Ot=np.zeros((nf_mocap,3)) # création du conteneur pour la position de la hanche dans le repère monde\n",
    "\n",
    "# On définit d'abord les vecteurs y des différents segments au cours du temps\n",
    "\n",
    "yp=np.zeros((nf_mocap,3)) #axe y du pelvis au cours du temps\n",
    "yt=np.zeros((nf_mocap,3)) #axe y de la cuisse au cours du temps\n",
    "ys=np.zeros((nf_mocap,3)) #axe y de la jambe au cours du temps\n",
    "yf=np.zeros((nf_mocap,3)) #axe y du pied au cours du temps\n",
    "\n",
    "# On définit ensuite les angles q1 flexion de hanche, q2 flexion de genou, q3 flexion de cheville\n",
    "q1=np.zeros((nf_mocap)) # création du conteneur pour l'angle q1\n",
    "q2=np.zeros((nf_mocap)) # création du conteneur pour l'angle q2\n",
    "q3=np.zeros((nf_mocap)) # création du conteneur pour l'angle q3\n",
    "\n",
    "for f in range(0,nf_mocap):\n",
    "    for i in range(0,n_markers): \n",
    "        markers[i,0]=point_data[0][i][f]\n",
    "        markers[i,1]=point_data[1][i][f]\n",
    "        markers[i,2]=point_data[2][i][f]\n",
    "        oRp=ID.Rp(markers) #calcul, à chaque frame, de la matrice du oRp (pelvis dans monde)\n",
    "        yp[f,:]=[oRp[0,1],oRp[1,1],oRp[2,1]]\n",
    "        Ot[f,:]=np.transpose(oRp@pOt)+Op[f,:] #calcul de la position de la hanche dans le repère monde \n",
    "\n",
    "Ot=ID.LP_filter_vec3(Ot,fc,f_mocap) #filtrage de la position de la hanche dans le repère monde\n",
    "\n",
    "for f in range(0,nf_mocap):   \n",
    "    yt[f,:]=(Ot[f,:]-Os[f,:])/np.linalg.norm(Ot[f,:]-Os[f,:])# calcul de yt au cours du temps --> on construit le vecteur Ot-Os et on normalise\n",
    "    ys[f,:]=(Os[f,:]-Of[f,:])/np.linalg.norm(Os[f,:]-Of[f,:])# calcul de ys au cours du temps --> on construit le vecteur Os-Of et on normalise\n",
    "    yf[f,:]=(Of[f,:]-Otoe[f,:])/np.linalg.norm(Of[f,:]-Otoe[f,:])# calcul de yf au cours du temps --> on construit le vecteur Of-Otoe et on normalise\n",
    "\n",
    "    q1[f]=np.arccos(yt[f,:]@np.transpose(yp[f,:]))\n",
    "    q2[f]=np.arccos(ys[f,:]@np.transpose(yt[f,:]))\n",
    "    q3[f]=np.arccos(yf[f,:]@np.transpose(ys[f,:]))-np.pi/2 #attention l'angle est décalé de -pi/2 pour respecter la position anatomique du pied\n"
   ]
  },
  {
   "cell_type": "markdown",
   "metadata": {},
   "source": [
    "## Calcul des positions, vitesses et accélérations des centres de masse\n",
    "\n",
    "<font color='green'>**Question 3: Calculer pour chaque frame la position des centres de masses des segments dans le repère monde. Exploiter pour cela les centres articulaires calculés précedemment ainsi que les matrices de rotation des différents solides par rapport au repère monde. Regarder la fonction \"rotz\" dans le fichier ID.py pour construire ces matrices.**</font>"
   ]
  },
  {
   "cell_type": "code",
   "execution_count": 7,
   "metadata": {},
   "outputs": [],
   "source": [
    "############################################################\n",
    "########### POSITIONS, VITESSES, ACCELERATIONS #############\n",
    "############################################################\n",
    "\n",
    "# calcul et filtrage des centres de masse dans le repère global\n",
    "oGt=np.zeros((nf_mocap,3))\n",
    "oGs=np.zeros((nf_mocap,3))\n",
    "oGf=np.zeros((nf_mocap,3))\n",
    "\n",
    "#####AJOUTER ICI LE CODE DE CALCUL DES TROIS QUANTITES CI-DESSUS\n",
    "\n",
    "oGt=ID.LP_filter_vec3(oGt,fc,f_mocap)\n",
    "oGs=ID.LP_filter_vec3(oGs,fc,f_mocap)\n",
    "oGf=ID.LP_filter_vec3(oGf,fc,f_mocap)\n",
    "\n",
    "# calcul des vitesses des centres de masse par différences finies +filtrage\n",
    "vGt=ID.diff_vec3(oGt,1/f_mocap)\n",
    "vGs=ID.diff_vec3(oGs,1/f_mocap)\n",
    "vGf=ID.diff_vec3(oGf,1/f_mocap)\n",
    "vGt=ID.LP_filter_vec3(vGt,fc,f_mocap)\n",
    "vGs=ID.LP_filter_vec3(vGs,fc,f_mocap)\n",
    "vGf=ID.LP_filter_vec3(vGf,fc,f_mocap)\n",
    "# calcul des accélérations des centres de masse par différences finies + filtrage\n",
    "aGt=ID.diff_vec3(vGt,1/f_mocap)\n",
    "aGs=ID.diff_vec3(vGs,1/f_mocap)\n",
    "aGf=ID.diff_vec3(vGf,1/f_mocap)\n",
    "aGt=ID.LP_filter_vec3(aGt,fc,f_mocap)\n",
    "aGs=ID.LP_filter_vec3(aGs,fc,f_mocap)\n",
    "aGf=ID.LP_filter_vec3(aGf,fc,f_mocap)\n",
    "\n",
    "# filtrage des coordonnées articulaires \n",
    "q1=ID.LP_filter(q1,fc,f_mocap)\n",
    "q2=ID.LP_filter(q2,fc,f_mocap)\n",
    "q3=ID.LP_filter(q3,fc,f_mocap)\n",
    "# vitesses articulaires par différences finies + filtrage\n",
    "dq1=ID.LP_filter(ID.diff2(q1,1/f_mocap),fc,f_mocap)\n",
    "dq2=ID.LP_filter(ID.diff2(q2,1/f_mocap),fc,f_mocap)\n",
    "dq3=ID.LP_filter(ID.diff2(q3,1/f_mocap),fc,f_mocap)\n",
    "# accélérations articulaires par différences finies + filtrage\n",
    "ddq1=ID.LP_filter(ID.diff2(dq1,1/f_mocap),fc,f_mocap)\n",
    "ddq2=ID.LP_filter(ID.diff2(dq2,1/f_mocap),fc,f_mocap)\n",
    "ddq3=ID.LP_filter(ID.diff2(dq3,1/f_mocap),fc,f_mocap)"
   ]
  },
  {
   "cell_type": "markdown",
   "metadata": {},
   "source": [
    "## Extraction des données de la plateforme 1\n",
    "\n",
    "Le code suivant permet d'extraire les données de plateforme stockées dans le C3D. Les données sont directement exprimées dans le repère global ce qui facilite fortement leur usage pour réaliser l'analyse par dynamique inverse. Par contre la présence de \"trous\" dans les données oblige à les pré-traiter (voir fonction \"replace_nan\" dans ID.py). Les données sont resamplées à la fréquence de capture et filtrées.\n",
    "\n",
    "<font color='green'>**Question 4: Tracer les forces de réaction de la plateforme en fonction du temps. Le résultat vous parait-il cohérent ?**</font>"
   ]
  },
  {
   "cell_type": "code",
   "execution_count": 8,
   "metadata": {},
   "outputs": [],
   "source": [
    "\n",
    "pf_1 = c[\"data\"][\"platform\"][1]  # sélection de la plateforme n°2\n",
    "\n",
    "[GRF1,CoP1]=ID.generate_GRF(pf_1) #extraction des forces et du centre de pression dans le repère monde\n",
    "CoP1=ID.replace_nan(CoP1,1.)\n",
    "CoP1rs=ID.resample_vec3(CoP1,nf_mocap)\n",
    "\n",
    "CoP1rs=np.transpose(ID.LP_filter_vec3(np.transpose(CoP1rs),fc,f_mocap))\n",
    "\n",
    "GRF1rs=ID.resample_vec3(GRF1,nf_mocap)\n",
    "GRF1rs=np.transpose(ID.LP_filter_vec3(np.transpose(GRF1rs),fc,f_mocap))\n",
    "\n",
    "#suppression des données sur les frames de double support sur la plateforme\n",
    "for i in range(1629-624,len(GRF1rs[0,:])):\n",
    "    GRF1rs[0,i]=0\n",
    "    GRF1rs[1,i]=0\n",
    "    GRF1rs[2,i]=0\n",
    "    "
   ]
  },
  {
   "cell_type": "markdown",
   "metadata": {},
   "source": [
    "## Calcul de la dynamique inverse\n",
    "\n",
    "On reprend exactement les structures et notations des slides pour réaliser ce calcul. Pour rappel, le bilan des actions mécaniques sur chacun des solides peut être résumé comme il suit :\n",
    "\n",
    "![alt text](recap_BAME.png \"Bilan des actions mécaniques extérieures\")\n",
    "\n",
    "<font color='green'>**Question 5: Pour chaque frame, calculer les matrices de rotation des différents segments, puis réaliser l'équilibre dynamique pour chaque solide. Suivre pour cela le formalisme du cours. Attention à bien projeter dans les bonnes bases les différentes quantités à l'aide des matrices de rotations, et à ramener les couples aux centres articulaires systématiquement.**</font>"
   ]
  },
  {
   "cell_type": "code",
   "execution_count": 10,
   "metadata": {},
   "outputs": [],
   "source": [
    "\n",
    "###########################################\n",
    "########### DYNAMIQUE INVERSE #############\n",
    "###########################################\n",
    "\n",
    "Ff=np.zeros((3,nf_mocap))#efforts intersegmentaires jambe -> pied\n",
    "Gf=np.zeros((3,nf_mocap)) # couple articulaire cheville\n",
    "\n",
    "Fs=np.zeros((3,nf_mocap))#efforts intersegmentaires cuisse -> jambe\n",
    "Gs=np.zeros((3,nf_mocap)) # couple articulaire genou\n",
    "\n",
    "Ft=np.zeros((3,nf_mocap))#efforts intersegmentaires pelvis -> cuisse\n",
    "Gt=np.zeros((3,nf_mocap)) # couple articulaire hanche\n",
    "\n",
    "#for f in range(0,nf_mocap):\n",
    "    #calculs préliminaires: matrices de rotation\n",
    "\n",
    "    #####PIED#####\n",
    "    #effort sur le pied\n",
    "    \n",
    "    #définir la résultante de l'effort\n",
    "    #transporter le moment en Of\n",
    "    #projeter résultante et moment dans Rf\n",
    "    \n",
    "    #poids du pied\n",
    "\n",
    "    #définir la résultante de l'effort\n",
    "    #transporter le moment en Of\n",
    "    #projeter résultante et moment dans Rf\n",
    " \n",
    "    \n",
    "    #quantités d'accélération (torseur dynamique) du pied en Of \n",
    "    \n",
    "    #définir la résultante dynamique\n",
    "    #transporter le moment en Of (attention il existe un moment dynamique en Gf)\n",
    "    #projeter résultante et moment dans Rf\n",
    "    \n",
    "    \n",
    "    #On résout pour le pied: le torseur dynamique=la somme des torseurs des actions extérieures\n",
    "    \n",
    "    #Ff[:,f]=\n",
    "    #Gf[:,f]=\n",
    "\n",
    "    #####JAMBE#####\n",
    "    \n",
    "    #poids de la jambe\n",
    "    \n",
    "    #définir la résultante de l'effort\n",
    "    #transporter le moment en Os\n",
    "    #projeter résultante et moment dans Rs\n",
    "    \n",
    "    \n",
    "    \n",
    "    #quantités d'accélération (torseur dynamique) de la jambe en Os\n",
    "\n",
    "    #définir la résultante dynamique\n",
    "    #transporter le moment en Os (attention il existe un moment dynamique en Gs)\n",
    "    #projeter résultante et moment dans Rs\n",
    "    \n",
    "    #Efforts pied -> jambe\n",
    "    \n",
    "    #inverser et projeter dans Rs la résultante jambe->pied calculée précedemment\n",
    "    #transporter le moment de cheville en Os et le projeter dans Rs\n",
    "    \n",
    "    \n",
    "    #On résout pour la jambe: le torseur dynamique=la somme des torseurs des actions extérieures\n",
    "    #Fs[:,f]=\n",
    "    #Gs[:,f]=\n",
    " \n",
    "    #####CUISSE#####\n",
    "    \n",
    "    #poids de la cuisse\n",
    "\n",
    "    #définir la résultante de l'effort\n",
    "    #transporter le moment en Ot\n",
    "    #projeter résultante et moment dans Rt\n",
    "    \n",
    "    #quantités d'accélération (torseur dynamique) de la cuisse en Ot\n",
    "\n",
    "    #définir la résultante dynamique\n",
    "    #transporter le moment en Ot (attention il existe un moment dynamique en Gt)\n",
    "    #projeter résultante et moment dans Rt\n",
    "    \n",
    "    #Efforts jambe -> cuisse\n",
    "    #inverser et projeter dans Rt la résultante cuisse->jambe calculée précedemment\n",
    "    #transporter le moment de genou en Ot et le projeter dans Rt\n",
    "    \n",
    "    \n",
    "    #On résout pour la jambe\n",
    "    #Ft[:,f]=\n",
    "    #Gt[:,f]=\n",
    "\n"
   ]
  },
  {
   "cell_type": "markdown",
   "metadata": {},
   "source": [
    "## Tracé des couples articulaires\n",
    "\n",
    "On choisit pour ce tracé de partir du décollage du pied droit (right toe off) jusqu'au début de la phase de double appui, pour laquelle le pied gauche se pose sur la même plateforme que le pied droit et vient donc rendre inexploitable la suite du cycle (double support). \n",
    "\n",
    "<font color='green'>**Question 6: Tracé à l'aide du temps normalisé l'évolution des couples (normalisés par la masse du sujet qui est de 65kg) au cours du temps.**</font>"
   ]
  },
  {
   "cell_type": "code",
   "execution_count": 11,
   "metadata": {},
   "outputs": [
    {
     "data": {
      "image/png": "[encoded data removed]",
      "text/plain": [
       "<Figure size 640x480 with 1 Axes>"
      ]
     },
     "metadata": {},
     "output_type": "display_data"
    }
   ],
   "source": [
    "\n",
    "\n",
    "off=624 # offset\n",
    "#cycle complet\n",
    "t1=1275 #right toe off\n",
    "t3=1679 #right toe off\n",
    "\n",
    "#fin du tracé\n",
    "t2=1629 #double support\n",
    "\n",
    "#instant de la pose du pied droit sur la plateforme\n",
    "t4=1428 # right heel strike\n",
    "\n",
    "nf_cycle=len(t_point[t1:t3]) #récupération de la longueur du cycle de marche\n",
    "nf_trace=len(t_point[t1:t2]) #récupération de la longueur du tracé\n",
    "t_percent=np.linspace(0., 100, num=nf_cycle) #temps normalisé entre 0 et 100%, long comme le cycle de marche\n",
    "\n",
    "\n",
    "#ajouter les tracés ici\n",
    "\n",
    "plt.xlabel('t (%)')\n",
    "plt.ylabel('Couple (N.m/kg)')\n",
    "plt.legend(['F/E Cheville','F/E Genou','F/E Hanche'])\n",
    "plt.grid()\n",
    "plt.show()\n"
   ]
  }
 ],
 "metadata": {
  "kernelspec": {
   "display_name": "Python 3 (ipykernel)",
   "language": "python",
   "name": "python3"
  },
  "language_info": {
   "codemirror_mode": {
    "name": "ipython",
    "version": 3
   },
   "file_extension": ".py",
   "mimetype": "text/x-python",
   "name": "python",
   "nbconvert_exporter": "python",
   "pygments_lexer": "ipython3",
   "version": "3.9.13"
  }
 },
 "nbformat": 4,
 "nbformat_minor": 2
}
