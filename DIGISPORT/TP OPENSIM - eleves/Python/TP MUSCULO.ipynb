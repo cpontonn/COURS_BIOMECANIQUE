{
 "cells": [
  {
   "cell_type": "markdown",
   "metadata": {},
   "source": [
    "# TP Analyse musculo squelettique - cinématique\n",
    "**Charles Pontonnier - Nicolas Bideau**\n",
    "\n",
    "L'objectif de ce TP sur 3 séances est de réaliser l'analyse cinématique, dynamique et musculaire d'une capture de mouvement de marche. Ce premier script python se concentre sur la réalisation de la calibration géométrique du modèle ainsi que la cinématique inverse permettant de récupérer, au cours du temps, les trajectoires articulaires.\n"
   ]
  },
  {
   "cell_type": "markdown",
   "metadata": {},
   "source": [
    "## Setup du Notebook"
   ]
  },
  {
   "cell_type": "code",
   "execution_count": 3,
   "metadata": {},
   "outputs": [],
   "source": [
    "import ezc3d \n",
    "import numpy as np\n",
    "import matplotlib.pyplot as plt\n",
    "from scipy import signal\n",
    "import os"
   ]
  },
  {
   "cell_type": "markdown",
   "metadata": {},
   "source": [
    "\n",
    "## Exploration des données d'entrée\n",
    "\n",
    "Avant de lancer une analyse musculosquelettique, nous allons explorer les données à disposition.\n",
    "\n",
    "Dans le dossier DATA, charger le fichier <font color='red'>\"Marche0007.c3d\"</font> sous MOKKA. Observer les données disponibles.\n",
    "\n",
    "Etant donné que l'objet de l'étude est une marche à vitesse de confort, il est important dès maintenant d'analyser les données disponibles en termes de cycle de marche. Pour rappel, on se fiera à la définition suivante pour définir un cycle de marche (au pied de départ près).\n",
    "\n",
    "Srinivasan, Sujatha, I. A. Raptis, and Eric R. Westervelt. \"Low-dimensional sagittal plane model of normal human walking.\" Journal of biomechanical engineering 130.5 (2008).\n",
    "\n",
    "![alt text](gait_angles.jpg \"données de référence flexion membre inférieur\")\n",
    "\n",
    "\n",
    "<font color='green'>**Question 1: Compter le nombre de cycles complets disponibles dans cet exemple, et identifier les frames de début et fin de cycle. Noter également quel pied se pose sur quelle plateforme et pour quel cycle les données de plateforme sont disponibles.**</font>\n",
    "\n"
   ]
  },
  {
   "cell_type": "markdown",
   "metadata": {},
   "source": [
    "\n",
    "## Préparation des données d'entrée\n",
    "\n",
    "Tout d'abord, il est nécessaire d'exporter les données de capture afin de permettre leur lecture par opensim, qui ne lit pas les C3D.\n",
    "\n",
    "<font color='green'>**Question 2: Dans MOKKA, utiliser la fonction export pour exporter le C3D dans le format .trc, qui est le format de données lu par OpenSim pour les données de marqueurs.**</font>\n",
    "\n",
    "Ensuite, étant donné qu'Opensim ne sait traiter des données de capture uniquement orientées y-up, il est nécessaire de modifier les données d'entrée pour les adapter au solveur.\n",
    "\n",
    "![alt text](orientation_frames.png \"orientation des données dans opensim\")\n",
    "\n",
    "<font color='green'>**Question 3: Dans Opensim, ouvrir le fichier .trc (<font color='red'>File>Preview Experimental Data...</font>) et utiliser la fonction \"Transform\" pour orienter les données \"y-up\" avec x comme direction principale de marche, comme représenté ci-dessus. Utiliser le bouton \"save as\" pour sauver les données au format .trc.**</font>\n",
    "\n",
    "Enfin, il est nécessaire pour la dynamique inverse (traitée plus tard) de générer un fichier contenant les efforts de réaction au sol (Ground Reaction Forces, GRF en anglais). Ce traitement a déjà été réalisé pour l'essai que vous traitez dans ce TP et est disponible dans DATA, sous le nom <font color='red'>\"GRF_marche0007.mot\"</font>.\n",
    "\n",
    "<font color='green'>**Question 4: Répéter les questions 2 et 3 pour le fichier <font color='red'>\"statique.c3d\"</font>.**</font>"
   ]
  },
  {
   "cell_type": "markdown",
   "metadata": {},
   "source": [
    "## Exploration du modèle opensim\n",
    "\n",
    "A présent, vous pouvez fermer les données expérimentales et vous concentrer sur le modèle musculo-squelettique que nous allons exploiter par la suite. Pour cela, ouvrez le modèle disponible à la racine du dossier <font color='red'>\"M2S_model_complet.osim\"</font>.\n",
    "\n",
    "Vous devriez avoir à présent sous vos yeux le modèle suivant:\n",
    "\n",
    "![alt text](model.png \"modèle M2S\")\n",
    "\n",
    "<font color='green'>**Question 5: A l'aide de l'onglet <font color='red'>coordinates</font>, explorer les degrés de liberté du modèle. Le modèle présente-t-il des muscles sur tous ses segments ? **</font>."
   ]
  },
  {
   "cell_type": "markdown",
   "metadata": {},
   "source": [
    "## Scaling du modèle\n",
    "\n",
    "Le modèle étant chargé, nous allons à présent réaliser sa calibration géométrique (scaling). Pour celà, aller dans <font color='red'>Tools>Scale model...</font>. \n",
    "\n",
    "<font color='green'>**Question 6: A l'aide des instructions données en direct, mettre en oeuvre une mise à l'échelle cohérente. Pensez-à bien sauver vos \"settings\" au format XML. Lancer le scaling. Qu'en déduisez-vous ?**</font>."
   ]
  },
  {
   "cell_type": "markdown",
   "metadata": {},
   "source": [
    "## Cinématique inverse\n",
    "\n",
    "A présent que le modèle a été mis à l'échelle, nous allons réaliser l'étape de cinématique inverse.\n",
    "\n",
    "<font color='green'>**Question 7: A l'aide des instructions données en direct, mettre en oeuvre la méthode de cinématique inverse. Pensez-à bien sauver vos \"settings\" au format XML. Lancer le calcul. Que déduisez-vous des valeurs d'erreur obtenues ?**</font>"
   ]
  },
  {
   "cell_type": "markdown",
   "metadata": {},
   "source": [
    "## Post processing\n",
    "\n",
    "A présent, nous avons calculé l'ensemble des trajectoires articulaires au cours du temps. Ces étapes ayant été finalisées et les résultats ayant été sauvegardés, il est tout d'abord possible de les visualiser dans Opensim\n",
    "\n",
    "<font color='green'>**Question 8: A l'aide de l'outil <font color='red'>Tools>Plot...</font>, tracer les angles de flexion de hanche, genou et cheville au cours du temps. Les allures obtenues vous paraissent-elles conformes à celles présentées en début de TP ?**</font>\n",
    "\n",
    "Nous allons à présent exporter les données de cinématique inverse dans ce notebook pour pouvoir normaliser et superposer les cycles de marche."
   ]
  },
  {
   "cell_type": "code",
   "execution_count": 2,
   "metadata": {},
   "outputs": [],
   "source": [
    "# Fonction de récupération des données d'OpenSim\n",
    "def readMotionFile(filename):\n",
    "    \"\"\" Reads OpenSim .sto files.\n",
    "    Parameters\n",
    "    ----------\n",
    "    filename: absolute path to the .sto file\n",
    "    Returns\n",
    "    -------\n",
    "    header: the header of the .sto\n",
    "    labels: the labels of the columns\n",
    "    data: an array of the data\n",
    "    \"\"\"\n",
    "\n",
    "    if not os.path.exists(filename):\n",
    "        print('file do not exists')\n",
    "\n",
    "    file_id = open(filename, 'r')\n",
    "\n",
    "    # read header\n",
    "    next_line = file_id.readline()\n",
    "    header = [next_line]\n",
    "    nc = 0\n",
    "    nr = 0\n",
    "    while not 'endheader' in next_line:\n",
    "        if 'datacolumns' in next_line:\n",
    "            nc = int(next_line[next_line.index(' ') + 1:len(next_line)])\n",
    "        elif 'datarows' in next_line:\n",
    "            nr = int(next_line[next_line.index(' ') + 1:len(next_line)])\n",
    "    \n",
    "        elif 'nColumns' in next_line:\n",
    "            nc = int(next_line[next_line.index('=') + 1:len(next_line)])\n",
    "        elif 'nRows' in next_line:\n",
    "            nr = int(next_line[next_line.index('=') + 1:len(next_line)])\n",
    "\n",
    "        next_line = file_id.readline()\n",
    "        header.append(next_line)\n",
    "\n",
    "    # process column labels\n",
    "    next_line = file_id.readline()\n",
    "    if next_line.isspace() == True:\n",
    "        next_line = file_id.readline()\n",
    "\n",
    "    labels = next_line.split()\n",
    "\n",
    "    # get data\n",
    "    data = []\n",
    "    for i in range(1, nr + 1):\n",
    "        d = [float(x) for x in file_id.readline().split()]\n",
    "        data.append(d)\n",
    "\n",
    "    file_id.close()\n",
    "\n",
    "    return header, labels, data\n",
    "\n",
    "\n",
    "#récupération des données de cinématique\n",
    "#[h,l,d]=readMotionFile('../Trial010_IK.mot')\n",
    "#impression des labels\n",
    "#print(l)\n",
    "\n",
    "#récupération des données \"épaule\"\n",
    "#flex_shoulder_l=np.zeros(len(d))\n",
    "#flex_elbow_l=np.zeros(len(d))\n",
    "#add_shoulder_l=np.zeros(len(d))\n",
    "#time=np.zeros(len(d))\n",
    "#for i in range(len(d)):\n",
    " #   flex_shoulder_l[i]=d[i][33]\n",
    " #   flex_elbow_l[i]=d[i][36]\n",
    " #   add_shoulder_l[i]=d[i][34]\n",
    " #   time[i]=d[i][0]"
   ]
  },
  {
   "cell_type": "markdown",
   "metadata": {},
   "source": [
    "<font color='green'>**Question 9: A l'aide du code ci-dessus, récupérer les résultats de la cinématique inverse pour la flexion de hanche, de genou et de cheville.**</font>\n",
    "\n",
    "\n",
    "<font color='green'>**Question 10: A l'aide des informations recueillies au tout début du TP, découper les résultats en cycles, normaliser le temps de cycle et tracer sur un même graphe les angles articulaires obtenus pour chaque cycle. Commentez votre **</font>"
   ]
  }
 ],
 "metadata": {
  "kernelspec": {
   "display_name": "Python 3 (ipykernel)",
   "language": "python",
   "name": "python3"
  },
  "language_info": {
   "codemirror_mode": {
    "name": "ipython",
    "version": 3
   },
   "file_extension": ".py",
   "mimetype": "text/x-python",
   "name": "python",
   "nbconvert_exporter": "python",
   "pygments_lexer": "ipython3",
   "version": "3.9.13"
  }
 },
 "nbformat": 4,
 "nbformat_minor": 2
}
