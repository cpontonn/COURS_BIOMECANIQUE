{
 "cells": [
  {
   "cell_type": "markdown",
   "metadata": {},
   "source": [
    "# Chandelle rugbystique"
   ]
  },
  {
   "cell_type": "markdown",
   "metadata": {},
   "source": [
    "On va chercher dans la suite de ce TD à définir les trajectoires de différents points d'un ballon de rugby\n",
    "![alt text](f2.png \"Title\")"
   ]
  },
  {
   "cell_type": "code",
   "execution_count": 1,
   "metadata": {},
   "outputs": [],
   "source": [
    "import numpy as np\n",
    "import matplotlib.pyplot as plt"
   ]
  },
  {
   "cell_type": "markdown",
   "metadata": {},
   "source": [
    "## Définition des données du problème"
   ]
  },
  {
   "cell_type": "code",
   "execution_count": 23,
   "metadata": {},
   "outputs": [],
   "source": [
    "couleurs=['r','b','g','c','k'] #couleurs pour les tracés des trajectoires\n",
    "v0=16 # vitesse initiale en m/s\n",
    "\n",
    "alpha= np.radians(80) # angle d'envol en °\n",
    "theta0=np.radians(-50) #orientation du ballon au moment du coup de pied en °\n",
    "dtheta0=np.radians(-1440) #vitesse angulaire du ballon au moment du coup de pied en °/s\n",
    "h0=0# hauteur du point Os au moment du coup de pied\n",
    "m=0.45 # masse du ballon en kg\n",
    "I=0.0135 #inertie du ballon en kg.m²\n",
    "g=9.81 #gravité en m/s²\n",
    "l1=0.3 #longueur du ballon en m\n",
    "l2=0.19 #Largeur du ballon en m\n",
    "disc=1000 #nombre de points pour la génération des trajectoires"
   ]
  },
  {
   "cell_type": "markdown",
   "metadata": {},
   "source": [
    "## Fonction de calcul de la position et de l'orientation du ballon à l'instant t"
   ]
  },
  {
   "cell_type": "code",
   "execution_count": 14,
   "metadata": {},
   "outputs": [],
   "source": [
    "def Traj_chandelle(v0,alpha,h0,dtheta0,theta0,g,t):\n",
    "    X=np.zeros(3) # x, y et theta\n",
    "    X[0]=v0*np.cos(alpha)*t\n",
    "    X[1]=-g*t*t/2+v0*np.sin(alpha)*t+h0\n",
    "    X[2]=dtheta0*t+theta0\n",
    "    return np.array(X)"
   ]
  },
  {
   "cell_type": "code",
   "execution_count": 15,
   "metadata": {},
   "outputs": [],
   "source": [
    "def P1(v0,alpha,h0,dtheta0,theta0,g,t,l1,l2):\n",
    "    X=Traj_chandelle(v0,alpha,h0,dtheta0,theta0,g,t)\n",
    "    Y=np.zeros(2) # x, y\n",
    "    Y[0]=X[0]+0.5*l2*np.cos(X[2])\n",
    "    Y[1]=X[1]+0.5*l2*np.sin(X[2])\n",
    "    return np.array(Y)"
   ]
  },
  {
   "cell_type": "code",
   "execution_count": 16,
   "metadata": {},
   "outputs": [],
   "source": [
    "def P2(v0,alpha,h0,dtheta0,theta0,g,t,l1,l2):\n",
    "    X=Traj_chandelle(v0,alpha,h0,dtheta0,theta0,g,t)\n",
    "    Y=np.zeros(2) # x, y \n",
    "    Y[0]=X[0]-0.5*l1*np.sin(X[2])\n",
    "    Y[1]=X[1]+0.5*l1*np.cos(X[2])\n",
    "    return np.array(Y)"
   ]
  },
  {
   "cell_type": "code",
   "execution_count": 17,
   "metadata": {},
   "outputs": [],
   "source": [
    "def P3(v0,alpha,h0,dtheta0,theta0,g,t,l1,l2):\n",
    "    X=Traj_chandelle(v0,alpha,h0,dtheta0,theta0,g,t)\n",
    "    Y=np.zeros(2) # x, y\n",
    "    Y[0]=X[0]-0.5*l2*np.cos(X[2])\n",
    "    Y[1]=X[1]-0.5*l2*np.sin(X[2])\n",
    "    return np.array(Y)"
   ]
  },
  {
   "cell_type": "code",
   "execution_count": 18,
   "metadata": {},
   "outputs": [],
   "source": [
    "def P4(v0,alpha,h0,dtheta0,theta0,g,t,l1,l2):\n",
    "    X=Traj_chandelle(v0,alpha,h0,dtheta0,theta0,g,t)\n",
    "    Y=np.zeros(2) # x, y \n",
    "    Y[0]=X[0]+0.5*l2*np.sin(X[2])\n",
    "    Y[1]=X[1]-0.5*l2*np.cos(X[2])\n",
    "    return np.array(Y)"
   ]
  },
  {
   "cell_type": "markdown",
   "metadata": {},
   "source": [
    "## Fonction de calcul du temps de vol et de la longueur de la chandelle"
   ]
  },
  {
   "cell_type": "code",
   "execution_count": 19,
   "metadata": {},
   "outputs": [],
   "source": [
    "def Tvol(func,v0,alpha,h0,dtheta0,theta0,g,l1,l2,a,b):\n",
    "    while abs(b-a)>0.001:\n",
    "        X1=func(v0,alpha,h0,dtheta0,theta0,g,(a+b)/2,l1,l2)\n",
    "        X2=func(v0,alpha,h0,dtheta0,theta0,g,a,l1,l2)\n",
    "        if (X1[1])*(X2[1]) < 0:\n",
    "            b=(a+b)/2\n",
    "        else:\n",
    "            a=(a+b)/2\n",
    "    return (a+b)/2,X1[0]\n"
   ]
  },
  {
   "cell_type": "markdown",
   "metadata": {},
   "source": [
    "## Calcul du temps de vol pour les points P1 à P4"
   ]
  },
  {
   "cell_type": "code",
   "execution_count": 26,
   "metadata": {
    "scrolled": true
   },
   "outputs": [
    {
     "name": "stdout",
     "output_type": "stream",
     "text": [
      "Le temps de vol est de :\n",
      "[3.21278381 3.22184753 3.21217957 3.20674133]\n",
      "La longueur de la chandelle est de:\n",
      "[9.02023098 8.97810444 8.83069993 8.92960714]\n"
     ]
    }
   ],
   "source": [
    "tempsvol=np.zeros(4)\n",
    "distance=np.zeros(4)\n",
    "\n",
    "[tempsvol[0],distance[0]]=Tvol(P1,v0,alpha,h0,dtheta0,theta0,g,l1,l2,0.1,10)\n",
    "[tempsvol[1],distance[1]]=Tvol(P2,v0,alpha,h0,dtheta0,theta0,g,l1,l2,0.1,10)\n",
    "[tempsvol[2],distance[2]]=Tvol(P3,v0,alpha,h0,dtheta0,theta0,g,l1,l2,0.1,10)\n",
    "[tempsvol[3],distance[3]]=Tvol(P4,v0,alpha,h0,dtheta0,theta0,g,l1,l2,0.1,10)\n",
    "\n",
    "print('Le temps de vol est de :')\n",
    "print(tempsvol)\n",
    "print('La longueur de la chandelle est de:')\n",
    "print(distance)"
   ]
  },
  {
   "cell_type": "markdown",
   "metadata": {},
   "source": [
    "## Génération des trajectoires des 4 points du ballon"
   ]
  },
  {
   "cell_type": "code",
   "execution_count": 27,
   "metadata": {},
   "outputs": [],
   "source": [
    "traj=np.zeros((3*4,disc))\n",
    "\n",
    "x1=np.linspace(0, tempsvol[0], num=disc)\n",
    "for j in range(0,disc):\n",
    "        X=P1(v0,alpha,h0,dtheta0,theta0,g,x1[j],l1,l2)\n",
    "        traj[0,j]=x1[j]\n",
    "        traj[1,j]=X[0]\n",
    "        traj[2,j]=X[1]\n",
    "x2=np.linspace(0, tempsvol[1], num=disc)\n",
    "for j in range(0,disc):\n",
    "        X=P2(v0,alpha,h0,dtheta0,theta0,g,x2[j],l1,l2)\n",
    "        traj[3,j]=x2[j]\n",
    "        traj[4,j]=X[0]\n",
    "        traj[5,j]=X[1]\n",
    "x3=np.linspace(0, tempsvol[2], num=disc)\n",
    "for j in range(0,disc):\n",
    "        X=P3(v0,alpha,h0,dtheta0,theta0,g,x3[j],l1,l2)\n",
    "        traj[6,j]=x3[j]\n",
    "        traj[7,j]=X[0]\n",
    "        traj[8,j]=X[1]\n",
    "x4=np.linspace(0, tempsvol[3], num=disc)\n",
    "for j in range(0,disc):\n",
    "        X=P4(v0,alpha,h0,dtheta0,theta0,g,x4[j],l1,l2)\n",
    "        traj[9,j]=x4[j]\n",
    "        traj[10,j]=X[0]\n",
    "        traj[11,j]=X[1]"
   ]
  },
  {
   "cell_type": "code",
   "execution_count": 28,
   "metadata": {},
   "outputs": [
    {
     "data": {
      "image/png": "[encoded data removed]",
      "text/plain": [
       "<Figure size 432x288 with 1 Axes>"
      ]
     },
     "metadata": {
      "needs_background": "light"
     },
     "output_type": "display_data"
    }
   ],
   "source": [
    "for i in range(0,4):\n",
    "        plt.plot(traj[3*i+1,:],traj[3*i+2,:],couleurs[i])\n",
    "\n",
    "plt.xlabel('x (m)')\n",
    "plt.ylabel('y (m)')\n",
    "plt.legend(['P1','P2','P3','P4'])\n",
    "plt.title('Position des points P1 P2 P3 P4 dans le plan x y')\n",
    "plt.grid()\n",
    "plt.show()"
   ]
  },
  {
   "cell_type": "code",
   "execution_count": null,
   "metadata": {},
   "outputs": [],
   "source": []
  }
 ],
 "metadata": {
  "kernelspec": {
   "display_name": "Python 3 (ipykernel)",
   "language": "python",
   "name": "python3"
  },
  "language_info": {
   "codemirror_mode": {
    "name": "ipython",
    "version": 3
   },
   "file_extension": ".py",
   "mimetype": "text/x-python",
   "name": "python",
   "nbconvert_exporter": "python",
   "pygments_lexer": "ipython3",
   "version": "3.9.13"
  }
 },
 "nbformat": 4,
 "nbformat_minor": 2
}
