{
 "cells": [
  {
   "cell_type": "code",
   "execution_count": 2,
   "metadata": {},
   "outputs": [],
   "source": [
    "import numpy as np\n",
    "import matplotlib.pyplot as plt"
   ]
  },
  {
   "cell_type": "markdown",
   "metadata": {},
   "source": [
    "## Données du problème"
   ]
  },
  {
   "cell_type": "code",
   "execution_count": 25,
   "metadata": {},
   "outputs": [
    {
     "name": "stdout",
     "output_type": "stream",
     "text": [
      "[[ 0.0074 -0.024   0.     -0.0546]\n",
      " [-0.04   -0.4389 -0.4285 -0.214 ]]\n"
     ]
    }
   ],
   "source": [
    "# Données géométriques, stockées dans un dictionnaire\n",
    "\n",
    "model=dict(lengths=np.array([[0.0074,-0.024,0.,-0.0546],[-0.04,-0.4389,-0.4285,-0.214]]))\n",
    "print(model['lengths'])\n",
    "#il s'agit respectivement de la position de la hanche dans le repère pelvis (1ère colonne), \n",
    "#la position du genou dans le repère cuisse (2ème colonne)\n",
    "#la position du pied dans le repère jambe (3ème colonne)\n",
    "#la position des orteils dans le repère pied (4ème colonne)"
   ]
  },
  {
   "cell_type": "markdown",
   "metadata": {},
   "source": [
    "## Ouverture d'un fichier C3D"
   ]
  },
  {
   "cell_type": "code",
   "execution_count": 24,
   "metadata": {},
   "outputs": [],
   "source": [
    "def DK(model,R0P,p0p,q):\n",
    "    #position des centres articulaires en fonction de la position et de l'orientation pelvis et des coordonnées articulaires q\n",
    "    l=model['lengths']\n",
    "    X=np.zeros(3,4)\n",
    "    #matrices de rotation\n",
    "    #position des points à partir des matrices\n",
    "    \n",
    "    return X"
   ]
  },
  {
   "cell_type": "markdown",
   "metadata": {},
   "source": [
    "## Tester la méthode"
   ]
  },
  {
   "cell_type": "code",
   "execution_count": 26,
   "metadata": {},
   "outputs": [],
   "source": [
    "#imposer R0P matrice identité, imposer p0p à 0 0 0, et imposer q1 q2 q3 --> est ce que le résultat d'appel de DK est cohérent ?\n"
   ]
  }
 ],
 "metadata": {
  "kernelspec": {
   "display_name": "Python 3",
   "language": "python",
   "name": "python3"
  },
  "language_info": {
   "codemirror_mode": {
    "name": "ipython",
    "version": 3
   },
   "file_extension": ".py",
   "mimetype": "text/x-python",
   "name": "python",
   "nbconvert_exporter": "python",
   "pygments_lexer": "ipython3",
   "version": "3.7.3"
  }
 },
 "nbformat": 4,
 "nbformat_minor": 2
}
