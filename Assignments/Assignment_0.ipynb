{
 "cells": [
  {
   "cell_type": "markdown",
   "metadata": {},
   "source": [
    "# Biomécanique du saut en longueur"
   ]
  },
  {
   "cell_type": "markdown",
   "metadata": {},
   "source": [
    "On va chercher dans la suite de ce TD à réaliser une étude des trajectoires des athlètes de saut en longueur\n",
    "![alt text](f1.png \"Title\")"
   ]
  },
  {
   "cell_type": "code",
   "execution_count": 1,
   "metadata": {},
   "outputs": [],
   "source": [
    "import numpy as np\n",
    "import matplotlib.pyplot as plt"
   ]
  },
  {
   "cell_type": "markdown",
   "metadata": {},
   "source": [
    "## Définition des données du problème"
   ]
  },
  {
   "cell_type": "code",
   "execution_count": 2,
   "metadata": {},
   "outputs": [],
   "source": [
    "n=2 #nombre d'athlètes\n",
    "nom=['Lewis','Powell']\n",
    "couleurs=['r','b','g','c','k']\n",
    "v0=np.array([10.,10.]) # vitesse initiale en m/s\n",
    "alpha= np.array([np.radians(20.8),np.radians(17.9)]) # angle d'envol en degrés\n",
    "h0=0.57*np.array([1.88,1.88])# hauteur du centre de masse à l'impulsion en supposant l'athlète debout en m\n",
    "ma=np.array([80,77]) # masse des athlètes en kg\n",
    "l=1.2 #coefficient de frottement en kg/s\n",
    "g=9.81 #gravité en m/s2\n",
    "disc=500 #nombre de points pour la génération des trajectoires"
   ]
  },
  {
   "cell_type": "markdown",
   "metadata": {},
   "source": [
    "## Fonction de calcul de la vitesse et position du sauteur à l'instant t, avec frottements"
   ]
  },
  {
   "cell_type": "code",
   "execution_count": 3,
   "metadata": {},
   "outputs": [],
   "source": [
    "def Traj(v0,alpha,h0,m,l,t):\n",
    "    h=l/m\n",
    "    dX=np.zeros(2)\n",
    "    dX[0]=v0*np.cos(alpha)*np.exp(-h*t)\n",
    "    dX[1]=(v0*np.sin(alpha)+g/h)*np.exp(-h*t)-g/h\n",
    "    X=np.zeros(2)\n",
    "    X[0]=v0*np.cos(alpha)*(1-np.exp(-h*t))/h\n",
    "    X[1]=(v0*np.sin(alpha)+g/h)*(1-np.exp(-h*t))/h-g*t/h+h0\n",
    "    return np.array(X),np.array(dX)\n"
   ]
  },
  {
   "cell_type": "markdown",
   "metadata": {},
   "source": [
    "## Fonction de calcul de la position et de la vitesse à l'instant t du saut, sans frottement"
   ]
  },
  {
   "cell_type": "code",
   "execution_count": 4,
   "metadata": {},
   "outputs": [],
   "source": [
    "def Traj_sansf(v0,alpha,h0,m,l,t):\n",
    "    dX=np.zeros(2)\n",
    "    dX[0]=v0*np.cos(alpha)\n",
    "    dX[1]=-g*t+v0*np.sin(alpha)\n",
    "    X=np.zeros(2)\n",
    "    X[0]=v0*np.cos(alpha)*t\n",
    "    X[1]=-g*t*t/2+v0*np.sin(alpha)*t+h0\n",
    "    return np.array(X),np.array(dX)"
   ]
  },
  {
   "cell_type": "markdown",
   "metadata": {},
   "source": [
    "## Fonction de calcul du temps de vol et de la longueur de saut"
   ]
  },
  {
   "cell_type": "code",
   "execution_count": 5,
   "metadata": {},
   "outputs": [],
   "source": [
    "def Tvol(func,v0,alpha,h0,m,l,a,b,tol,hf):\n",
    "    while abs(b-a)>tol:\n",
    "        [X1,dX1]=func(v0,alpha,h0,m,l,(a+b)/2)\n",
    "        [X2,dX2]=func(v0,alpha,h0,m,l,a)\n",
    "        if (X1[1]-hf)*(X2[1]-hf) < 0:\n",
    "            b=(a+b)/2\n",
    "        else:\n",
    "            a=(a+b)/2\n",
    "    return (a+b)/2,X1[0]\n"
   ]
  },
  {
   "cell_type": "markdown",
   "metadata": {},
   "source": [
    "## Calcul du temps de vol et de la longueur des sauts"
   ]
  },
  {
   "cell_type": "code",
   "execution_count": 6,
   "metadata": {
    "scrolled": true
   },
   "outputs": [
    {
     "name": "stdout",
     "output_type": "stream",
     "text": [
      "Le temps de vol est de :\n",
      "[0.90820312 0.82617188]\n",
      "La longueur de saut est de:\n",
      "[8.40733081 7.83709662]\n"
     ]
    }
   ],
   "source": [
    "tempsvol=np.zeros(n)\n",
    "distance=np.zeros(n)\n",
    "for i in range(0,n):\n",
    "    [tempsvol[i],distance[i]]=Tvol(Traj,v0[i],alpha[i],h0[i],ma[i],l,0.2,3,0.01,0.25)\n",
    "\n",
    "print('Le temps de vol est de :')\n",
    "print(tempsvol)\n",
    "print('La longueur de saut est de:')\n",
    "print(distance)"
   ]
  },
  {
   "cell_type": "markdown",
   "metadata": {},
   "source": [
    "## Génération des trajectoires de saut"
   ]
  },
  {
   "cell_type": "code",
   "execution_count": 7,
   "metadata": {},
   "outputs": [],
   "source": [
    "traj=np.zeros((3*n,disc))\n",
    "for i in range(0,n):\n",
    "    x=np.linspace(0, tempsvol[i], num=disc)\n",
    "    for j in range(0,disc):\n",
    "        [X1,dX1]=Traj(v0[i],alpha[i],h0[i],ma[i],l,x[j])\n",
    "        traj[i*3,j]=x[j]\n",
    "        traj[(i*3+1),j]=X1[0]\n",
    "        traj[(i*3+2),j]=X1[1]"
   ]
  },
  {
   "cell_type": "code",
   "execution_count": 8,
   "metadata": {},
   "outputs": [
    {
     "data": {
      "image/png": "[encoded data removed]",
      "text/plain": [
       "<Figure size 432x288 with 1 Axes>"
      ]
     },
     "metadata": {
      "needs_background": "light"
     },
     "output_type": "display_data"
    }
   ],
   "source": [
    "\n",
    "for i in range(0,n):\n",
    "        plt.plot(traj[3*i+1,:],traj[3*i+2,:],couleurs[i])\n",
    "\n",
    "plt.xlabel('x (m)')\n",
    "plt.ylabel('y (m)')\n",
    "plt.legend(nom)\n",
    "plt.grid()\n",
    "plt.show()"
   ]
  },
  {
   "cell_type": "code",
   "execution_count": null,
   "metadata": {},
   "outputs": [],
   "source": []
  },
  {
   "cell_type": "code",
   "execution_count": null,
   "metadata": {},
   "outputs": [],
   "source": []
  }
 ],
 "metadata": {
  "kernelspec": {
   "display_name": "Python 3 (ipykernel)",
   "language": "python",
   "name": "python3"
  },
  "language_info": {
   "codemirror_mode": {
    "name": "ipython",
    "version": 3
   },
   "file_extension": ".py",
   "mimetype": "text/x-python",
   "name": "python",
   "nbconvert_exporter": "python",
   "pygments_lexer": "ipython3",
   "version": "3.9.13"
  }
 },
 "nbformat": 4,
 "nbformat_minor": 2
}
